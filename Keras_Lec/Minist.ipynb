{
 "cells": [
  {
   "cell_type": "code",
   "execution_count": 46,
   "metadata": {},
   "outputs": [],
   "source": [
    "from keras.models import Sequential\n",
    "from keras.layers import Dense\n",
    "\n",
    "from keras.optimizers import Adam\n",
    "from keras.losses import categorical_crossentropy\n",
    "\n",
    "import numpy as np\n",
    "import matplotlib.pyplot as plt\n",
    "from sklearn.datasets import make_blobs\n",
    "from sklearn.model_selection import train_test_split\n",
    "from sklearn.preprocessing import OneHotEncoder\n",
    "import pandas as pd"
   ]
  },
  {
   "cell_type": "code",
   "execution_count": 47,
   "metadata": {},
   "outputs": [],
   "source": [
    "\n",
    "data=pd.read_csv(\"mnist_train_small.csv\").values\n",
    "X = data[:, 2:]\n",
    "y = data[:, 1]"
   ]
  },
  {
   "cell_type": "code",
   "execution_count": 48,
   "metadata": {},
   "outputs": [],
   "source": [
    "ohe = OneHotEncoder(categories=\"auto\")"
   ]
  },
  {
   "cell_type": "code",
   "execution_count": 49,
   "metadata": {},
   "outputs": [],
   "source": [
    "y_hot = ohe.fit_transform(y.reshape(-1, 1)).todense()"
   ]
  },
  {
   "cell_type": "code",
   "execution_count": 50,
   "metadata": {},
   "outputs": [],
   "source": [
    "X_train, X_test, y_train, y_test = train_test_split(\n",
    "...     X, y_hot, test_size=0.33, random_state=42)"
   ]
  },
  {
   "cell_type": "code",
   "execution_count": 51,
   "metadata": {},
   "outputs": [],
   "source": [
    "hidden_1 = Dense(200, activation=\"tanh\", input_shape=(X.shape[1],))\n",
    "hidden_2 = Dense(70, activation=\"tanh\")\n",
    "hidden_3 = Dense(20, activation=\"tanh\")\n",
    "out = Dense(y_hot.shape[1], activation=\"softmax\")"
   ]
  },
  {
   "cell_type": "code",
   "execution_count": 52,
   "metadata": {},
   "outputs": [
    {
     "name": "stdout",
     "output_type": "stream",
     "text": [
      "_________________________________________________________________\n",
      "Layer (type)                 Output Shape              Param #   \n",
      "=================================================================\n",
      "dense_13 (Dense)             (None, 200)               157000    \n",
      "_________________________________________________________________\n",
      "dense_14 (Dense)             (None, 70)                14070     \n",
      "_________________________________________________________________\n",
      "dense_15 (Dense)             (None, 20)                1420      \n",
      "_________________________________________________________________\n",
      "dense_16 (Dense)             (None, 10)                210       \n",
      "=================================================================\n",
      "Total params: 172,700\n",
      "Trainable params: 172,700\n",
      "Non-trainable params: 0\n",
      "_________________________________________________________________\n"
     ]
    }
   ],
   "source": [
    "model = Sequential()\n",
    "model.add(hidden_1)\n",
    "model.add(hidden_2)\n",
    "model.add(hidden_3)\n",
    "model.add(out)\n",
    "model.summary()"
   ]
  },
  {
   "cell_type": "code",
   "execution_count": 53,
   "metadata": {},
   "outputs": [],
   "source": [
    "model.compile(optimizer=\"adam\", loss=\"categorical_crossentropy\", metrics=[\"accuracy\"])"
   ]
  },
  {
   "cell_type": "code",
   "execution_count": 54,
   "metadata": {},
   "outputs": [
    {
     "name": "stdout",
     "output_type": "stream",
     "text": [
      "Epoch 1/50\n",
      "5360/5360 [==============================] - 1s 167us/step - loss: 1.6547 - acc: 0.5021\n",
      "Epoch 2/50\n",
      "5360/5360 [==============================] - 0s 57us/step - loss: 0.9518 - acc: 0.7834\n",
      "Epoch 3/50\n",
      "5360/5360 [==============================] - 0s 53us/step - loss: 0.7088 - acc: 0.8416\n",
      "Epoch 4/50\n",
      "5360/5360 [==============================] - 0s 58us/step - loss: 0.5765 - acc: 0.8698\n",
      "Epoch 5/50\n",
      "5360/5360 [==============================] - 0s 55us/step - loss: 0.4931 - acc: 0.8873\n",
      "Epoch 6/50\n",
      "5360/5360 [==============================] - 0s 54us/step - loss: 0.4303 - acc: 0.9004\n",
      "Epoch 7/50\n",
      "5360/5360 [==============================] - 0s 54us/step - loss: 0.3930 - acc: 0.9103\n",
      "Epoch 8/50\n",
      "5360/5360 [==============================] - 0s 55us/step - loss: 0.3691 - acc: 0.9116\n",
      "Epoch 9/50\n",
      "5360/5360 [==============================] - 0s 56us/step - loss: 0.3400 - acc: 0.9201\n",
      "Epoch 10/50\n",
      "5360/5360 [==============================] - 0s 55us/step - loss: 0.3237 - acc: 0.9151\n",
      "Epoch 11/50\n",
      "5360/5360 [==============================] - 0s 55us/step - loss: 0.2956 - acc: 0.9203\n",
      "Epoch 12/50\n",
      "5360/5360 [==============================] - 0s 56us/step - loss: 0.2855 - acc: 0.9229\n",
      "Epoch 13/50\n",
      "5360/5360 [==============================] - 0s 59us/step - loss: 0.2847 - acc: 0.9220\n",
      "Epoch 14/50\n",
      "5360/5360 [==============================] - 0s 59us/step - loss: 0.2850 - acc: 0.9220\n",
      "Epoch 15/50\n",
      "5360/5360 [==============================] - 0s 58us/step - loss: 0.2826 - acc: 0.9213\n",
      "Epoch 16/50\n",
      "5360/5360 [==============================] - 0s 57us/step - loss: 0.2694 - acc: 0.9241\n",
      "Epoch 17/50\n",
      "5360/5360 [==============================] - 0s 54us/step - loss: 0.2624 - acc: 0.9274\n",
      "Epoch 18/50\n",
      "5360/5360 [==============================] - 0s 55us/step - loss: 0.2546 - acc: 0.9271\n",
      "Epoch 19/50\n",
      "5360/5360 [==============================] - 0s 57us/step - loss: 0.2518 - acc: 0.9293\n",
      "Epoch 20/50\n",
      "5360/5360 [==============================] - 0s 61us/step - loss: 0.2599 - acc: 0.9297\n",
      "Epoch 21/50\n",
      "5360/5360 [==============================] - 0s 55us/step - loss: 0.2486 - acc: 0.9267\n",
      "Epoch 22/50\n",
      "5360/5360 [==============================] - 0s 57us/step - loss: 0.2399 - acc: 0.9326\n",
      "Epoch 23/50\n",
      "5360/5360 [==============================] - 0s 57us/step - loss: 0.2428 - acc: 0.9289\n",
      "Epoch 24/50\n",
      "5360/5360 [==============================] - 0s 53us/step - loss: 0.2476 - acc: 0.9293\n",
      "Epoch 25/50\n",
      "5360/5360 [==============================] - 0s 61us/step - loss: 0.2368 - acc: 0.9312\n",
      "Epoch 26/50\n",
      "5360/5360 [==============================] - 0s 61us/step - loss: 0.2341 - acc: 0.9328\n",
      "Epoch 27/50\n",
      "5360/5360 [==============================] - 0s 56us/step - loss: 0.2375 - acc: 0.9312\n",
      "Epoch 28/50\n",
      "5360/5360 [==============================] - 0s 57us/step - loss: 0.2455 - acc: 0.9257\n",
      "Epoch 29/50\n",
      "5360/5360 [==============================] - 0s 58us/step - loss: 0.2484 - acc: 0.9254: 0s - loss: 0.2449 - acc: 0.9\n",
      "Epoch 30/50\n",
      "5360/5360 [==============================] - 0s 63us/step - loss: 0.2504 - acc: 0.9257\n",
      "Epoch 31/50\n",
      "5360/5360 [==============================] - 0s 59us/step - loss: 0.2341 - acc: 0.9295\n",
      "Epoch 32/50\n",
      "5360/5360 [==============================] - 0s 63us/step - loss: 0.2220 - acc: 0.9330\n",
      "Epoch 33/50\n",
      "5360/5360 [==============================] - 0s 53us/step - loss: 0.2107 - acc: 0.9405\n",
      "Epoch 34/50\n",
      "5360/5360 [==============================] - 0s 56us/step - loss: 0.2109 - acc: 0.9373\n",
      "Epoch 35/50\n",
      "5360/5360 [==============================] - 0s 56us/step - loss: 0.2088 - acc: 0.9338\n",
      "Epoch 36/50\n",
      "5360/5360 [==============================] - 0s 56us/step - loss: 0.2175 - acc: 0.9328\n",
      "Epoch 37/50\n",
      "5360/5360 [==============================] - 0s 60us/step - loss: 0.2275 - acc: 0.9293\n",
      "Epoch 38/50\n",
      "5360/5360 [==============================] - 0s 60us/step - loss: 0.2270 - acc: 0.9312\n",
      "Epoch 39/50\n",
      "5360/5360 [==============================] - 0s 59us/step - loss: 0.2326 - acc: 0.9287\n",
      "Epoch 40/50\n",
      "5360/5360 [==============================] - 0s 55us/step - loss: 0.2285 - acc: 0.9282\n",
      "Epoch 41/50\n",
      "5360/5360 [==============================] - 0s 55us/step - loss: 0.2184 - acc: 0.9332\n",
      "Epoch 42/50\n",
      "5360/5360 [==============================] - 0s 58us/step - loss: 0.2142 - acc: 0.9340\n",
      "Epoch 43/50\n",
      "5360/5360 [==============================] - 0s 57us/step - loss: 0.2026 - acc: 0.9382\n",
      "Epoch 44/50\n",
      "5360/5360 [==============================] - 0s 54us/step - loss: 0.1862 - acc: 0.9412\n",
      "Epoch 45/50\n",
      "5360/5360 [==============================] - 0s 53us/step - loss: 0.1971 - acc: 0.9364\n",
      "Epoch 46/50\n",
      "5360/5360 [==============================] - 0s 55us/step - loss: 0.2028 - acc: 0.9368\n",
      "Epoch 47/50\n",
      "5360/5360 [==============================] - 0s 52us/step - loss: 0.2070 - acc: 0.9353\n",
      "Epoch 48/50\n",
      "5360/5360 [==============================] - 0s 53us/step - loss: 0.2143 - acc: 0.9300\n",
      "Epoch 49/50\n",
      "5360/5360 [==============================] - 0s 57us/step - loss: 0.2222 - acc: 0.9315\n",
      "Epoch 50/50\n",
      "5360/5360 [==============================] - 0s 56us/step - loss: 0.2336 - acc: 0.9310\n"
     ]
    },
    {
     "data": {
      "text/plain": [
       "<keras.callbacks.History at 0x22944d25e48>"
      ]
     },
     "execution_count": 54,
     "metadata": {},
     "output_type": "execute_result"
    }
   ],
   "source": [
    "model.fit(X_train, y_train, epochs=50, batch_size=200)"
   ]
  },
  {
   "cell_type": "code",
   "execution_count": 55,
   "metadata": {},
   "outputs": [
    {
     "name": "stdout",
     "output_type": "stream",
     "text": [
      "2640/2640 [==============================] - 0s 102us/step\n"
     ]
    },
    {
     "data": {
      "text/plain": [
       "[0.3595755628564141, 0.8829545454545454]"
      ]
     },
     "execution_count": 55,
     "metadata": {},
     "output_type": "execute_result"
    }
   ],
   "source": [
    "model.evaluate(X_test, y_test)"
   ]
  },
  {
   "cell_type": "code",
   "execution_count": 56,
   "metadata": {},
   "outputs": [
    {
     "data": {
      "text/plain": [
       "array([[3.5382528e-04, 1.9083630e-03, 6.8714534e-04, 6.1153052e-03,\n",
       "        1.1842851e-02, 6.4525511e-03, 6.0751699e-05, 9.0757227e-03,\n",
       "        3.0274270e-03, 9.6047610e-01]], dtype=float32)"
      ]
     },
     "execution_count": 56,
     "metadata": {},
     "output_type": "execute_result"
    }
   ],
   "source": [
    "model.predict(X_test[:1])"
   ]
  },
  {
   "cell_type": "code",
   "execution_count": 57,
   "metadata": {},
   "outputs": [
    {
     "data": {
      "text/plain": [
       "matrix([[0., 0., 0., 0., 0., 0., 0., 0., 0., 1.]])"
      ]
     },
     "execution_count": 57,
     "metadata": {},
     "output_type": "execute_result"
    }
   ],
   "source": [
    "y_test[:1]"
   ]
  },
  {
   "cell_type": "code",
   "execution_count": null,
   "metadata": {},
   "outputs": [],
   "source": []
  }
 ],
 "metadata": {
  "kernelspec": {
   "display_name": "Python 3",
   "language": "python",
   "name": "python3"
  },
  "language_info": {
   "codemirror_mode": {
    "name": "ipython",
    "version": 3
   },
   "file_extension": ".py",
   "mimetype": "text/x-python",
   "name": "python",
   "nbconvert_exporter": "python",
   "pygments_lexer": "ipython3",
   "version": "3.7.3"
  }
 },
 "nbformat": 4,
 "nbformat_minor": 2
}
