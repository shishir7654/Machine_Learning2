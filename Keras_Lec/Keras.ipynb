{
 "cells": [
  {
   "cell_type": "code",
   "execution_count": null,
   "metadata": {},
   "outputs": [
    {
     "name": "stderr",
     "output_type": "stream",
     "text": [
      "Using TensorFlow backend.\n"
     ]
    }
   ],
   "source": [
    "from keras.models import Sequential\n",
    "from keras.layers import Dense\n",
    "\n",
    "from keras.optimizers import Adam\n",
    "from keras.losses import categorical_crossentropy\n",
    "\n",
    "import numpy as np\n",
    "import matplotlib.pyplot as plt\n",
    "from sklearn.datasets import make_blobs\n",
    "from sklearn.model_selection import train_test_split\n",
    "from sklearn.preprocessing import OneHotEncoder\n"
   ]
  },
  {
   "cell_type": "code",
   "execution_count": 101,
   "metadata": {},
   "outputs": [],
   "source": [
    "X,y=make_blobs(1000, centers=4, random_state=42)"
   ]
  },
  {
   "cell_type": "code",
   "execution_count": 102,
   "metadata": {},
   "outputs": [
    {
     "data": {
      "text/plain": [
       "<matplotlib.collections.PathCollection at 0x21960f6acc0>"
      ]
     },
     "execution_count": 102,
     "metadata": {},
     "output_type": "execute_result"
    },
    {
     "data": {
      "image/png": "[encoded data removed]",
      "text/plain": [
       "<Figure size 432x288 with 1 Axes>"
      ]
     },
     "metadata": {
      "needs_background": "light"
     },
     "output_type": "display_data"
    }
   ],
   "source": [
    "plt.scatter(X[:,0],X[:,1],c=y)"
   ]
  },
  {
   "cell_type": "code",
   "execution_count": 103,
   "metadata": {},
   "outputs": [],
   "source": [
    "ohe = OneHotEncoder(categories=\"auto\")"
   ]
  },
  {
   "cell_type": "code",
   "execution_count": 104,
   "metadata": {},
   "outputs": [],
   "source": [
    "y_hot = ohe.fit_transform(y.reshape(-1, 1)).todense()"
   ]
  },
  {
   "cell_type": "code",
   "execution_count": 105,
   "metadata": {},
   "outputs": [
    {
     "data": {
      "text/plain": [
       "[array([0, 1, 2, 3])]"
      ]
     },
     "execution_count": 105,
     "metadata": {},
     "output_type": "execute_result"
    }
   ],
   "source": [
    "ohe.categories_\n"
   ]
  },
  {
   "cell_type": "code",
   "execution_count": 106,
   "metadata": {},
   "outputs": [],
   "source": [
    "X_train, X_test, y_train, y_test = train_test_split(\n",
    "...     X, y_hot, test_size=0.33, random_state=42)"
   ]
  },
  {
   "cell_type": "code",
   "execution_count": 107,
   "metadata": {},
   "outputs": [],
   "source": [
    "hidden = Dense(5, activation=\"relu\", input_shape=(2,))\n",
    "out = Dense(4, activation=\"softmax\")"
   ]
  },
  {
   "cell_type": "code",
   "execution_count": 108,
   "metadata": {},
   "outputs": [
    {
     "name": "stdout",
     "output_type": "stream",
     "text": [
      "_________________________________________________________________\n",
      "Layer (type)                 Output Shape              Param #   \n",
      "=================================================================\n",
      "dense_15 (Dense)             (None, 5)                 15        \n",
      "_________________________________________________________________\n",
      "dense_16 (Dense)             (None, 4)                 24        \n",
      "=================================================================\n",
      "Total params: 39\n",
      "Trainable params: 39\n",
      "Non-trainable params: 0\n",
      "_________________________________________________________________\n"
     ]
    }
   ],
   "source": [
    "model = Sequential()\n",
    "model.add(hidden)\n",
    "model.add(out)\n",
    "model.summary()"
   ]
  },
  {
   "cell_type": "code",
   "execution_count": 109,
   "metadata": {},
   "outputs": [],
   "source": [
    "model.compile(optimizer=\"adam\", loss=\"categorical_crossentropy\", metrics=[\"accuracy\"])"
   ]
  },
  {
   "cell_type": "code",
   "execution_count": 110,
   "metadata": {},
   "outputs": [
    {
     "name": "stdout",
     "output_type": "stream",
     "text": [
      "Epoch 1/50\n",
      "670/670 [==============================] - 0s 704us/step - loss: 3.1202 - acc: 0.0030\n",
      "Epoch 2/50\n",
      "670/670 [==============================] - 0s 19us/step - loss: 3.0504 - acc: 0.0030\n",
      "Epoch 3/50\n",
      "670/670 [==============================] - 0s 21us/step - loss: 2.9764 - acc: 0.0030\n",
      "Epoch 4/50\n",
      "670/670 [==============================] - 0s 19us/step - loss: 2.9041 - acc: 0.0030\n",
      "Epoch 5/50\n",
      "670/670 [==============================] - 0s 16us/step - loss: 2.8305 - acc: 0.0030\n",
      "Epoch 6/50\n",
      "670/670 [==============================] - 0s 18us/step - loss: 2.7589 - acc: 0.0000e+00\n",
      "Epoch 7/50\n",
      "670/670 [==============================] - 0s 16us/step - loss: 2.6901 - acc: 0.0000e+00\n",
      "Epoch 8/50\n",
      "670/670 [==============================] - 0s 19us/step - loss: 2.6241 - acc: 0.0000e+00\n",
      "Epoch 9/50\n",
      "670/670 [==============================] - 0s 18us/step - loss: 2.5579 - acc: 0.0000e+00\n",
      "Epoch 10/50\n",
      "670/670 [==============================] - 0s 16us/step - loss: 2.4951 - acc: 0.0000e+00\n",
      "Epoch 11/50\n",
      "670/670 [==============================] - 0s 18us/step - loss: 2.4316 - acc: 0.0000e+00\n",
      "Epoch 12/50\n",
      "670/670 [==============================] - 0s 18us/step - loss: 2.3717 - acc: 0.0000e+00\n",
      "Epoch 13/50\n",
      "670/670 [==============================] - 0s 22us/step - loss: 2.3109 - acc: 0.0000e+00\n",
      "Epoch 14/50\n",
      "670/670 [==============================] - 0s 15us/step - loss: 2.2532 - acc: 0.0000e+00\n",
      "Epoch 15/50\n",
      "670/670 [==============================] - 0s 22us/step - loss: 2.1969 - acc: 0.0000e+00\n",
      "Epoch 16/50\n",
      "670/670 [==============================] - 0s 18us/step - loss: 2.1418 - acc: 0.0000e+00\n",
      "Epoch 17/50\n",
      "670/670 [==============================] - 0s 19us/step - loss: 2.0890 - acc: 0.0000e+00\n",
      "Epoch 18/50\n",
      "670/670 [==============================] - 0s 18us/step - loss: 2.0378 - acc: 0.0000e+00\n",
      "Epoch 19/50\n",
      "670/670 [==============================] - 0s 21us/step - loss: 1.9881 - acc: 0.0000e+00\n",
      "Epoch 20/50\n",
      "670/670 [==============================] - 0s 16us/step - loss: 1.9402 - acc: 0.0000e+00\n",
      "Epoch 21/50\n",
      "670/670 [==============================] - 0s 16us/step - loss: 1.8960 - acc: 0.0000e+00\n",
      "Epoch 22/50\n",
      "670/670 [==============================] - 0s 22us/step - loss: 1.8539 - acc: 0.0000e+00\n",
      "Epoch 23/50\n",
      "670/670 [==============================] - 0s 24us/step - loss: 1.8144 - acc: 0.0000e+00\n",
      "Epoch 24/50\n",
      "670/670 [==============================] - 0s 19us/step - loss: 1.7764 - acc: 0.0015\n",
      "Epoch 25/50\n",
      "670/670 [==============================] - 0s 21us/step - loss: 1.7411 - acc: 0.0164\n",
      "Epoch 26/50\n",
      "670/670 [==============================] - 0s 15us/step - loss: 1.7078 - acc: 0.0701\n",
      "Epoch 27/50\n",
      "670/670 [==============================] - 0s 15us/step - loss: 1.6758 - acc: 0.1642\n",
      "Epoch 28/50\n",
      "670/670 [==============================] - 0s 22us/step - loss: 1.6454 - acc: 0.2239\n",
      "Epoch 29/50\n",
      "670/670 [==============================] - 0s 18us/step - loss: 1.6168 - acc: 0.2433\n",
      "Epoch 30/50\n",
      "670/670 [==============================] - 0s 16us/step - loss: 1.5893 - acc: 0.2507\n",
      "Epoch 31/50\n",
      "670/670 [==============================] - 0s 21us/step - loss: 1.5636 - acc: 0.2582\n",
      "Epoch 32/50\n",
      "670/670 [==============================] - 0s 16us/step - loss: 1.5385 - acc: 0.2597\n",
      "Epoch 33/50\n",
      "670/670 [==============================] - 0s 19us/step - loss: 1.5145 - acc: 0.2627\n",
      "Epoch 34/50\n",
      "670/670 [==============================] - 0s 15us/step - loss: 1.4915 - acc: 0.2672\n",
      "Epoch 35/50\n",
      "670/670 [==============================] - 0s 16us/step - loss: 1.4694 - acc: 0.2672\n",
      "Epoch 36/50\n",
      "670/670 [==============================] - 0s 19us/step - loss: 1.4481 - acc: 0.2687\n",
      "Epoch 37/50\n",
      "670/670 [==============================] - 0s 16us/step - loss: 1.4274 - acc: 0.2701\n",
      "Epoch 38/50\n",
      "670/670 [==============================] - 0s 22us/step - loss: 1.4078 - acc: 0.2701\n",
      "Epoch 39/50\n",
      "670/670 [==============================] - 0s 16us/step - loss: 1.3886 - acc: 0.2716\n",
      "Epoch 40/50\n",
      "670/670 [==============================] - 0s 19us/step - loss: 1.3700 - acc: 0.2716\n",
      "Epoch 41/50\n",
      "670/670 [==============================] - 0s 15us/step - loss: 1.3518 - acc: 0.2716\n",
      "Epoch 42/50\n",
      "670/670 [==============================] - 0s 15us/step - loss: 1.3342 - acc: 0.2761\n",
      "Epoch 43/50\n",
      "670/670 [==============================] - 0s 19us/step - loss: 1.3170 - acc: 0.2836\n",
      "Epoch 44/50\n",
      "670/670 [==============================] - 0s 15us/step - loss: 1.2999 - acc: 0.2910\n",
      "Epoch 45/50\n",
      "670/670 [==============================] - 0s 13us/step - loss: 1.2837 - acc: 0.2970\n",
      "Epoch 46/50\n",
      "670/670 [==============================] - 0s 21us/step - loss: 1.2677 - acc: 0.3000\n",
      "Epoch 47/50\n",
      "670/670 [==============================] - 0s 19us/step - loss: 1.2516 - acc: 0.3030\n",
      "Epoch 48/50\n",
      "670/670 [==============================] - 0s 15us/step - loss: 1.2362 - acc: 0.3104\n",
      "Epoch 49/50\n",
      "670/670 [==============================] - 0s 15us/step - loss: 1.2207 - acc: 0.3104\n",
      "Epoch 50/50\n",
      "670/670 [==============================] - 0s 15us/step - loss: 1.2054 - acc: 0.3104\n"
     ]
    },
    {
     "data": {
      "text/plain": [
       "<keras.callbacks.History at 0x21961fdfba8>"
      ]
     },
     "execution_count": 110,
     "metadata": {},
     "output_type": "execute_result"
    }
   ],
   "source": [
    "model.fit(X_train, y_train, epochs=50, batch_size=200)"
   ]
  },
  {
   "cell_type": "code",
   "execution_count": 111,
   "metadata": {},
   "outputs": [
    {
     "name": "stdout",
     "output_type": "stream",
     "text": [
      "330/330 [==============================] - 0s 479us/step\n"
     ]
    },
    {
     "data": {
      "text/plain": [
       "[1.1531987956075958, 0.36363636435884417]"
      ]
     },
     "execution_count": 111,
     "metadata": {},
     "output_type": "execute_result"
    }
   ],
   "source": [
    "model.evaluate(X_test, y_test)"
   ]
  },
  {
   "cell_type": "code",
   "execution_count": 112,
   "metadata": {},
   "outputs": [
    {
     "data": {
      "text/plain": [
       "array([[0.2039423 , 0.1321664 , 0.16114125, 0.50275   ]], dtype=float32)"
      ]
     },
     "execution_count": 112,
     "metadata": {},
     "output_type": "execute_result"
    }
   ],
   "source": [
    "model.predict(X_test[:1])"
   ]
  },
  {
   "cell_type": "code",
   "execution_count": 113,
   "metadata": {},
   "outputs": [
    {
     "data": {
      "text/plain": [
       "matrix([[0., 1., 0., 0.]])"
      ]
     },
     "execution_count": 113,
     "metadata": {},
     "output_type": "execute_result"
    }
   ],
   "source": [
    "y_test[:1]"
   ]
  },
  {
   "cell_type": "code",
   "execution_count": null,
   "metadata": {},
   "outputs": [],
   "source": []
  }
 ],
 "metadata": {
  "kernelspec": {
   "display_name": "Python 3",
   "language": "python",
   "name": "python3"
  },
  "language_info": {
   "codemirror_mode": {
    "name": "ipython",
    "version": 3
   },
   "file_extension": ".py",
   "mimetype": "text/x-python",
   "name": "python",
   "nbconvert_exporter": "python",
   "pygments_lexer": "ipython3",
   "version": "3.7.3"
  }
 },
 "nbformat": 4,
 "nbformat_minor": 2
}
