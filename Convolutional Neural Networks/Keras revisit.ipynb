{
 "cells": [
  {
   "cell_type": "code",
   "execution_count": 105,
   "metadata": {},
   "outputs": [],
   "source": [
    "import numpy as np\n",
    "import pandas as pd\n",
    "import matplotlib.pyplot as plt\n",
    "from sklearn.preprocessing import OneHotEncoder\n",
    "\n",
    "\n",
    "from sklearn.model_selection import train_test_split\n",
    "from keras.layers import Dense ,Input ,Dropout\n",
    "from keras .models import Model"
   ]
  },
  {
   "cell_type": "code",
   "execution_count": 106,
   "metadata": {},
   "outputs": [],
   "source": [
    "data=pd.read_csv(\"mnist_train_small.csv\").values\n",
    "X = data[:, 2:]\n",
    "y = data[:, 1]"
   ]
  },
  {
   "cell_type": "code",
   "execution_count": 107,
   "metadata": {},
   "outputs": [],
   "source": [
    "ohe = OneHotEncoder(categories=\"auto\")"
   ]
  },
  {
   "cell_type": "code",
   "execution_count": 108,
   "metadata": {},
   "outputs": [],
   "source": [
    "y_hot = ohe.fit_transform(y.reshape(-1, 1)).todense()"
   ]
  },
  {
   "cell_type": "code",
   "execution_count": 128,
   "metadata": {},
   "outputs": [],
   "source": [
    "X_train, X_test, y_train, y_test = train_test_split(\n",
    "...     X, y_hot, test_size=0.33, random_state=42)"
   ]
  },
  {
   "cell_type": "code",
   "execution_count": 129,
   "metadata": {},
   "outputs": [],
   "source": [
    "in_layer = Input(shape=[784])\n",
    "dense_1 = Dense(200, activation=\"tanh\")(in_layer)\n",
    "dense_2 = Dense(100, activation=\"tanh\")(dense_1)\n",
    "drop = Dropout(rate=.25)(dense_2)\n",
    "dense_3 = Dense(50, activation=\"tanh\")(dense_2)\n",
    "out = Dense(10, activation=\"softmax\")(dense_3)"
   ]
  },
  {
   "cell_type": "code",
   "execution_count": 130,
   "metadata": {},
   "outputs": [],
   "source": [
    "model = Model(inputs=[in_layer], outputs=[out])"
   ]
  },
  {
   "cell_type": "code",
   "execution_count": 131,
   "metadata": {},
   "outputs": [
    {
     "name": "stdout",
     "output_type": "stream",
     "text": [
      "_________________________________________________________________\n",
      "Layer (type)                 Output Shape              Param #   \n",
      "=================================================================\n",
      "input_15 (InputLayer)        (None, 784)               0         \n",
      "_________________________________________________________________\n",
      "dense_40 (Dense)             (None, 200)               157000    \n",
      "_________________________________________________________________\n",
      "dense_41 (Dense)             (None, 100)               20100     \n",
      "_________________________________________________________________\n",
      "dense_42 (Dense)             (None, 50)                5050      \n",
      "_________________________________________________________________\n",
      "dense_43 (Dense)             (None, 10)                510       \n",
      "=================================================================\n",
      "Total params: 182,660\n",
      "Trainable params: 182,660\n",
      "Non-trainable params: 0\n",
      "_________________________________________________________________\n"
     ]
    }
   ],
   "source": [
    "model.summary()"
   ]
  },
  {
   "cell_type": "code",
   "execution_count": 132,
   "metadata": {},
   "outputs": [],
   "source": [
    "model.compile(optimizer=\"adam\", loss=\"categorical_crossentropy\", metrics=[\"acc\"])"
   ]
  },
  {
   "cell_type": "code",
   "execution_count": 133,
   "metadata": {},
   "outputs": [
    {
     "name": "stdout",
     "output_type": "stream",
     "text": [
      "Epoch 1/10\n",
      "5360/5360 [==============================] - 1s 232us/step - loss: 1.3200 - acc: 0.6106\n",
      "Epoch 2/10\n",
      "5360/5360 [==============================] - 0s 57us/step - loss: 0.6228 - acc: 0.8450\n",
      "Epoch 3/10\n",
      "5360/5360 [==============================] - 0s 60us/step - loss: 0.4623 - acc: 0.8716\n",
      "Epoch 4/10\n",
      "5360/5360 [==============================] - 0s 58us/step - loss: 0.3951 - acc: 0.8894\n",
      "Epoch 5/10\n",
      "5360/5360 [==============================] - 0s 56us/step - loss: 0.3476 - acc: 0.9037\n",
      "Epoch 6/10\n",
      "5360/5360 [==============================] - 0s 56us/step - loss: 0.3147 - acc: 0.9118\n",
      "Epoch 7/10\n",
      "5360/5360 [==============================] - 0s 56us/step - loss: 0.2961 - acc: 0.9157\n",
      "Epoch 8/10\n",
      "5360/5360 [==============================] - 0s 59us/step - loss: 0.2885 - acc: 0.9147\n",
      "Epoch 9/10\n",
      "5360/5360 [==============================] - 0s 60us/step - loss: 0.2779 - acc: 0.9192: 0s - loss: 0.2736 - acc: 0.9\n",
      "Epoch 10/10\n",
      "5360/5360 [==============================] - 0s 59us/step - loss: 0.2747 - acc: 0.9166\n"
     ]
    }
   ],
   "source": [
    "hist = model.fit(X_train, y_train, epochs=10, batch_size=200)"
   ]
  },
  {
   "cell_type": "code",
   "execution_count": 134,
   "metadata": {},
   "outputs": [
    {
     "name": "stdout",
     "output_type": "stream",
     "text": [
      "2640/2640 [==============================] - 0s 161us/step\n"
     ]
    },
    {
     "data": {
      "text/plain": [
       "[0.34307229898192665, 0.893560606060606]"
      ]
     },
     "execution_count": 134,
     "metadata": {},
     "output_type": "execute_result"
    }
   ],
   "source": [
    "model.evaluate(X_test, y_test)"
   ]
  },
  {
   "cell_type": "code",
   "execution_count": 135,
   "metadata": {},
   "outputs": [
    {
     "data": {
      "text/plain": [
       "[<matplotlib.lines.Line2D at 0x2412c789240>]"
      ]
     },
     "execution_count": 135,
     "metadata": {},
     "output_type": "execute_result"
    },
    {
     "data": {
      "image/png": "[encoded data removed]",
      "text/plain": [
       "<Figure size 432x288 with 1 Axes>"
      ]
     },
     "metadata": {
      "needs_background": "light"
     },
     "output_type": "display_data"
    }
   ],
   "source": [
    "plt.plot(hist.history[\"acc\"])"
   ]
  },
  {
   "cell_type": "code",
   "execution_count": 136,
   "metadata": {},
   "outputs": [],
   "source": [
    "m2 = Model(inputs=[in_layer], outputs=[out])"
   ]
  },
  {
   "cell_type": "code",
   "execution_count": 137,
   "metadata": {},
   "outputs": [],
   "source": [
    "\n",
    "m2.compile(optimizer=\"adam\", loss=\"categorical_crossentropy\", metrics=[\"acc\"])\n"
   ]
  },
  {
   "cell_type": "code",
   "execution_count": 138,
   "metadata": {},
   "outputs": [
    {
     "name": "stdout",
     "output_type": "stream",
     "text": [
      "2640/2640 [==============================] - 1s 291us/step\n"
     ]
    },
    {
     "data": {
      "text/plain": [
       "[0.34307229898192665, 0.893560606060606]"
      ]
     },
     "execution_count": 138,
     "metadata": {},
     "output_type": "execute_result"
    }
   ],
   "source": [
    "\n",
    "m2.evaluate(X_test, y_test)"
   ]
  },
  {
   "cell_type": "code",
   "execution_count": null,
   "metadata": {},
   "outputs": [],
   "source": []
  },
  {
   "cell_type": "code",
   "execution_count": 83,
   "metadata": {},
   "outputs": [],
   "source": [
    "import cv2"
   ]
  },
  {
   "cell_type": "code",
   "execution_count": null,
   "metadata": {},
   "outputs": [],
   "source": []
  },
  {
   "cell_type": "code",
   "execution_count": null,
   "metadata": {},
   "outputs": [],
   "source": []
  }
 ],
 "metadata": {
  "kernelspec": {
   "display_name": "Python 3",
   "language": "python",
   "name": "python3"
  },
  "language_info": {
   "codemirror_mode": {
    "name": "ipython",
    "version": 3
   },
   "file_extension": ".py",
   "mimetype": "text/x-python",
   "name": "python",
   "nbconvert_exporter": "python",
   "pygments_lexer": "ipython3",
   "version": "3.7.3"
  }
 },
 "nbformat": 4,
 "nbformat_minor": 2
}
